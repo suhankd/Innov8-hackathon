{
 "cells": [
  {
   "cell_type": "code",
   "execution_count": 31,
   "metadata": {},
   "outputs": [
    {
     "ename": "TypeError",
     "evalue": "DataFrame.drop() takes from 1 to 2 positional arguments but 3 positional arguments (and 1 keyword-only argument) were given",
     "output_type": "error",
     "traceback": [
      "\u001b[1;31m---------------------------------------------------------------------------\u001b[0m",
      "\u001b[1;31mTypeError\u001b[0m                                 Traceback (most recent call last)",
      "Cell \u001b[1;32mIn[31], line 6\u001b[0m\n\u001b[0;32m      2\u001b[0m \u001b[38;5;28;01mimport\u001b[39;00m \u001b[38;5;21;01mnumpy\u001b[39;00m \u001b[38;5;28;01mas\u001b[39;00m \u001b[38;5;21;01mnp\u001b[39;00m\n\u001b[0;32m      4\u001b[0m df \u001b[38;5;241m=\u001b[39m pd\u001b[38;5;241m.\u001b[39mread_csv(\u001b[38;5;124m\"\u001b[39m\u001b[38;5;124msurvey.csv\u001b[39m\u001b[38;5;124m\"\u001b[39m)\n\u001b[1;32m----> 6\u001b[0m df \u001b[38;5;241m=\u001b[39m \u001b[43mdf\u001b[49m\u001b[38;5;241;43m.\u001b[39;49m\u001b[43mdrop\u001b[49m\u001b[43m(\u001b[49m\u001b[38;5;124;43m'\u001b[39;49m\u001b[38;5;124;43mTimestamp\u001b[39;49m\u001b[38;5;124;43m'\u001b[39;49m\u001b[43m,\u001b[49m\u001b[38;5;124;43m'\u001b[39;49m\u001b[38;5;124;43mno_employees,\u001b[39;49m\u001b[38;5;124;43m'\u001b[39;49m\u001b[43m,\u001b[49m\u001b[43maxis\u001b[49m\u001b[38;5;241;43m=\u001b[39;49m\u001b[38;5;241;43m1\u001b[39;49m\u001b[43m)\u001b[49m\n",
      "\u001b[1;31mTypeError\u001b[0m: DataFrame.drop() takes from 1 to 2 positional arguments but 3 positional arguments (and 1 keyword-only argument) were given"
     ]
    }
   ],
   "source": [
    "import pandas as pd\n",
    "import numpy as np\n",
    "\n",
    "df = pd.read_csv(\"survey.csv\")\n",
    "\n",
    "df = df.drop('Timestamp','no_employees,',axis=1)"
   ]
  },
  {
   "cell_type": "code",
   "execution_count": 26,
   "metadata": {},
   "outputs": [
    {
     "data": {
      "text/plain": [
       "array(['Yes', \"Don't know\", 'No'], dtype=object)"
      ]
     },
     "execution_count": 26,
     "metadata": {},
     "output_type": "execute_result"
    }
   ],
   "source": [
    "column_mapping = {\n",
    "    \"Age\": \"Age Group\",\n",
    "    \"Gender\": \"Allegiance Group\",\n",
    "    \"Country\": \"Clan Origin\",\n",
    "    \"state\": \"Current Status\",\n",
    "    \"self_employed\": \"Autonomy Level\",\n",
    "    \"family_history\": \"Clan Loyalty History\",\n",
    "    \"treatment\": \"Support Received\",\n",
    "    \"work_interfere\": \"Mission Interference\",\n",
    "    \"no_employees\": \"Clan Size\",\n",
    "    \"remote_work\": \"Isolation Level\",\n",
    "    \"tech_company\": \"Resource Access\",\n",
    "    \"benefits\": \"Support Benefits\",\n",
    "    \"care_options\": \"Care Accessibility\",\n",
    "    \"wellness_program\": \"Wellness Initiatives\",\n",
    "    \"seek_help\": \"Help-Seeking Behavior\",\n",
    "    \"anonymity\": \"Disguise of Intent\",\n",
    "    \"leave\": \"Absence Record\",\n",
    "    \"mental_health_consequence\": \"Mental Resilience Impact\",\n",
    "    \"phys_health_consequence\": \"Physical Readiness Impact\",\n",
    "    \"coworkers\": \"Comrade Relationships\",\n",
    "    \"supervisor\": \"Leadership Influence\",\n",
    "    \"mental_health_interview\": \"Loyalty Assessment\",\n",
    "    \"phys_health_interview\": \"Combat Readiness Assessment\",\n",
    "    \"mental_vs_physical\": \"Psychological vs. Physical Strain\",\n",
    "    \"obs_consequence\": \"Observational Consequences\",\n",
    "    \"comments\": \"Internal Dialogue\"\n",
    "}\n"
   ]
  },
  {
   "cell_type": "code",
   "execution_count": null,
   "metadata": {},
   "outputs": [],
   "source": []
  }
 ],
 "metadata": {
  "kernelspec": {
   "display_name": "Python 3",
   "language": "python",
   "name": "python3"
  },
  "language_info": {
   "codemirror_mode": {
    "name": "ipython",
    "version": 3
   },
   "file_extension": ".py",
   "mimetype": "text/x-python",
   "name": "python",
   "nbconvert_exporter": "python",
   "pygments_lexer": "ipython3",
   "version": "3.12.6"
  }
 },
 "nbformat": 4,
 "nbformat_minor": 2
}
