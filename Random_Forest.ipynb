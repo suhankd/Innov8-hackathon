{
 "cells": [
  {
   "cell_type": "code",
   "execution_count": 26,
   "metadata": {},
   "outputs": [
    {
     "name": "stdout",
     "output_type": "stream",
     "text": [
      "Language classifier\n"
     ]
    }
   ],
   "source": [
    "print(\"Language classifier\")"
   ]
  },
  {
   "cell_type": "code",
   "execution_count": 41,
   "metadata": {},
   "outputs": [],
   "source": [
    "import pandas as pd"
   ]
  },
  {
   "cell_type": "code",
   "execution_count": 64,
   "metadata": {},
   "outputs": [
    {
     "name": "stdout",
     "output_type": "stream",
     "text": [
      "<class 'pandas.core.frame.DataFrame'>\n",
      "RangeIndex: 500 entries, 0 to 499\n",
      "Data columns (total 4 columns):\n",
      " #   Column   Non-Null Count  Dtype \n",
      "---  ------   --------------  ----- \n",
      " 0   message  500 non-null    object\n",
      " 1   fingers  500 non-null    int64 \n",
      " 2   tail     500 non-null    object\n",
      " 3   species  500 non-null    object\n",
      "dtypes: int64(1), object(3)\n",
      "memory usage: 15.8+ KB\n"
     ]
    }
   ],
   "source": [
    "data = pd.read_csv(\"data.csv\")\n",
    "test_data = pd.read_csv(\"test.csv\")\n",
    "data.info()"
   ]
  },
  {
   "cell_type": "code",
   "execution_count": 65,
   "metadata": {},
   "outputs": [
    {
     "data": {
      "text/html": [
       "<div>\n",
       "<style scoped>\n",
       "    .dataframe tbody tr th:only-of-type {\n",
       "        vertical-align: middle;\n",
       "    }\n",
       "\n",
       "    .dataframe tbody tr th {\n",
       "        vertical-align: top;\n",
       "    }\n",
       "\n",
       "    .dataframe thead th {\n",
       "        text-align: right;\n",
       "    }\n",
       "</style>\n",
       "<table border=\"1\" class=\"dataframe\">\n",
       "  <thead>\n",
       "    <tr style=\"text-align: right;\">\n",
       "      <th></th>\n",
       "      <th>message</th>\n",
       "      <th>fingers</th>\n",
       "      <th>tail</th>\n",
       "      <th>species</th>\n",
       "    </tr>\n",
       "  </thead>\n",
       "  <tbody>\n",
       "    <tr>\n",
       "      <th>0</th>\n",
       "      <td>pluvia arbor aquos</td>\n",
       "      <td>4</td>\n",
       "      <td>no</td>\n",
       "      <td>Aquari</td>\n",
       "    </tr>\n",
       "    <tr>\n",
       "      <th>1</th>\n",
       "      <td>cosmix xeno nebuz odbitaz</td>\n",
       "      <td>5</td>\n",
       "      <td>yes</td>\n",
       "      <td>Zorblax</td>\n",
       "    </tr>\n",
       "    <tr>\n",
       "      <th>2</th>\n",
       "      <td>solarix glixx novum galaxum quasar</td>\n",
       "      <td>5</td>\n",
       "      <td>yes</td>\n",
       "      <td>Zorblax</td>\n",
       "    </tr>\n",
       "    <tr>\n",
       "      <th>3</th>\n",
       "      <td>arbor insectus pesros ekos dootix nimbus</td>\n",
       "      <td>2</td>\n",
       "      <td>yes</td>\n",
       "      <td>Florian</td>\n",
       "    </tr>\n",
       "    <tr>\n",
       "      <th>4</th>\n",
       "      <td>mermax drakos lorix epikoz deftax</td>\n",
       "      <td>4</td>\n",
       "      <td>no</td>\n",
       "      <td>Faerix</td>\n",
       "    </tr>\n",
       "    <tr>\n",
       "      <th>...</th>\n",
       "      <td>...</td>\n",
       "      <td>...</td>\n",
       "      <td>...</td>\n",
       "      <td>...</td>\n",
       "    </tr>\n",
       "    <tr>\n",
       "      <th>495</th>\n",
       "      <td>empathix sadix disgux dredax pridius afgstix e...</td>\n",
       "      <td>2</td>\n",
       "      <td>no</td>\n",
       "      <td>Emotivor</td>\n",
       "    </tr>\n",
       "    <tr>\n",
       "      <th>496</th>\n",
       "      <td>quasar ustron nebulax meteorn</td>\n",
       "      <td>4</td>\n",
       "      <td>no</td>\n",
       "      <td>Quixnar</td>\n",
       "    </tr>\n",
       "    <tr>\n",
       "      <th>497</th>\n",
       "      <td>astron xeno ceaestar astron kometa</td>\n",
       "      <td>6</td>\n",
       "      <td>yes</td>\n",
       "      <td>Zorblax</td>\n",
       "    </tr>\n",
       "    <tr>\n",
       "      <th>498</th>\n",
       "      <td>sporzom nimbus terram terranix aviana ekos nimbub</td>\n",
       "      <td>2</td>\n",
       "      <td>yes</td>\n",
       "      <td>Florian</td>\n",
       "    </tr>\n",
       "    <tr>\n",
       "      <th>499</th>\n",
       "      <td>blastix titanos relikum drakos gryphox sirenix</td>\n",
       "      <td>4</td>\n",
       "      <td>yes</td>\n",
       "      <td>Mythron</td>\n",
       "    </tr>\n",
       "  </tbody>\n",
       "</table>\n",
       "<p>500 rows × 4 columns</p>\n",
       "</div>"
      ],
      "text/plain": [
       "                                               message  fingers tail   species\n",
       "0                                   pluvia arbor aquos        4   no    Aquari\n",
       "1                            cosmix xeno nebuz odbitaz        5  yes   Zorblax\n",
       "2                   solarix glixx novum galaxum quasar        5  yes   Zorblax\n",
       "3             arbor insectus pesros ekos dootix nimbus        2  yes   Florian\n",
       "4                    mermax drakos lorix epikoz deftax        4   no    Faerix\n",
       "..                                                 ...      ...  ...       ...\n",
       "495  empathix sadix disgux dredax pridius afgstix e...        2   no  Emotivor\n",
       "496                      quasar ustron nebulax meteorn        4   no   Quixnar\n",
       "497                 astron xeno ceaestar astron kometa        6  yes   Zorblax\n",
       "498  sporzom nimbus terram terranix aviana ekos nimbub        2  yes   Florian\n",
       "499     blastix titanos relikum drakos gryphox sirenix        4  yes   Mythron\n",
       "\n",
       "[500 rows x 4 columns]"
      ]
     },
     "execution_count": 65,
     "metadata": {},
     "output_type": "execute_result"
    }
   ],
   "source": [
    "data"
   ]
  },
  {
   "cell_type": "code",
   "execution_count": 66,
   "metadata": {},
   "outputs": [],
   "source": [
    "data['tail']=data['tail'].map({'yes':1, 'no':0})"
   ]
  },
  {
   "cell_type": "code",
   "execution_count": 67,
   "metadata": {},
   "outputs": [
    {
     "data": {
      "text/html": [
       "<div>\n",
       "<style scoped>\n",
       "    .dataframe tbody tr th:only-of-type {\n",
       "        vertical-align: middle;\n",
       "    }\n",
       "\n",
       "    .dataframe tbody tr th {\n",
       "        vertical-align: top;\n",
       "    }\n",
       "\n",
       "    .dataframe thead th {\n",
       "        text-align: right;\n",
       "    }\n",
       "</style>\n",
       "<table border=\"1\" class=\"dataframe\">\n",
       "  <thead>\n",
       "    <tr style=\"text-align: right;\">\n",
       "      <th></th>\n",
       "      <th>message</th>\n",
       "      <th>fingers</th>\n",
       "      <th>tail</th>\n",
       "      <th>species</th>\n",
       "    </tr>\n",
       "  </thead>\n",
       "  <tbody>\n",
       "    <tr>\n",
       "      <th>0</th>\n",
       "      <td>pluvia arbor aquos</td>\n",
       "      <td>4</td>\n",
       "      <td>0</td>\n",
       "      <td>Aquari</td>\n",
       "    </tr>\n",
       "    <tr>\n",
       "      <th>1</th>\n",
       "      <td>cosmix xeno nebuz odbitaz</td>\n",
       "      <td>5</td>\n",
       "      <td>1</td>\n",
       "      <td>Zorblax</td>\n",
       "    </tr>\n",
       "    <tr>\n",
       "      <th>2</th>\n",
       "      <td>solarix glixx novum galaxum quasar</td>\n",
       "      <td>5</td>\n",
       "      <td>1</td>\n",
       "      <td>Zorblax</td>\n",
       "    </tr>\n",
       "    <tr>\n",
       "      <th>3</th>\n",
       "      <td>arbor insectus pesros ekos dootix nimbus</td>\n",
       "      <td>2</td>\n",
       "      <td>1</td>\n",
       "      <td>Florian</td>\n",
       "    </tr>\n",
       "    <tr>\n",
       "      <th>4</th>\n",
       "      <td>mermax drakos lorix epikoz deftax</td>\n",
       "      <td>4</td>\n",
       "      <td>0</td>\n",
       "      <td>Faerix</td>\n",
       "    </tr>\n",
       "    <tr>\n",
       "      <th>...</th>\n",
       "      <td>...</td>\n",
       "      <td>...</td>\n",
       "      <td>...</td>\n",
       "      <td>...</td>\n",
       "    </tr>\n",
       "    <tr>\n",
       "      <th>495</th>\n",
       "      <td>empathix sadix disgux dredax pridius afgstix e...</td>\n",
       "      <td>2</td>\n",
       "      <td>0</td>\n",
       "      <td>Emotivor</td>\n",
       "    </tr>\n",
       "    <tr>\n",
       "      <th>496</th>\n",
       "      <td>quasar ustron nebulax meteorn</td>\n",
       "      <td>4</td>\n",
       "      <td>0</td>\n",
       "      <td>Quixnar</td>\n",
       "    </tr>\n",
       "    <tr>\n",
       "      <th>497</th>\n",
       "      <td>astron xeno ceaestar astron kometa</td>\n",
       "      <td>6</td>\n",
       "      <td>1</td>\n",
       "      <td>Zorblax</td>\n",
       "    </tr>\n",
       "    <tr>\n",
       "      <th>498</th>\n",
       "      <td>sporzom nimbus terram terranix aviana ekos nimbub</td>\n",
       "      <td>2</td>\n",
       "      <td>1</td>\n",
       "      <td>Florian</td>\n",
       "    </tr>\n",
       "    <tr>\n",
       "      <th>499</th>\n",
       "      <td>blastix titanos relikum drakos gryphox sirenix</td>\n",
       "      <td>4</td>\n",
       "      <td>1</td>\n",
       "      <td>Mythron</td>\n",
       "    </tr>\n",
       "  </tbody>\n",
       "</table>\n",
       "<p>500 rows × 4 columns</p>\n",
       "</div>"
      ],
      "text/plain": [
       "                                               message  fingers  tail  \\\n",
       "0                                   pluvia arbor aquos        4     0   \n",
       "1                            cosmix xeno nebuz odbitaz        5     1   \n",
       "2                   solarix glixx novum galaxum quasar        5     1   \n",
       "3             arbor insectus pesros ekos dootix nimbus        2     1   \n",
       "4                    mermax drakos lorix epikoz deftax        4     0   \n",
       "..                                                 ...      ...   ...   \n",
       "495  empathix sadix disgux dredax pridius afgstix e...        2     0   \n",
       "496                      quasar ustron nebulax meteorn        4     0   \n",
       "497                 astron xeno ceaestar astron kometa        6     1   \n",
       "498  sporzom nimbus terram terranix aviana ekos nimbub        2     1   \n",
       "499     blastix titanos relikum drakos gryphox sirenix        4     1   \n",
       "\n",
       "      species  \n",
       "0      Aquari  \n",
       "1     Zorblax  \n",
       "2     Zorblax  \n",
       "3     Florian  \n",
       "4      Faerix  \n",
       "..        ...  \n",
       "495  Emotivor  \n",
       "496   Quixnar  \n",
       "497   Zorblax  \n",
       "498   Florian  \n",
       "499   Mythron  \n",
       "\n",
       "[500 rows x 4 columns]"
      ]
     },
     "execution_count": 67,
     "metadata": {},
     "output_type": "execute_result"
    }
   ],
   "source": [
    "data"
   ]
  },
  {
   "cell_type": "code",
   "execution_count": 68,
   "metadata": {},
   "outputs": [],
   "source": [
    "from sklearn.preprocessing import LabelEncoder\n",
    "\n",
    "label_encoder = LabelEncoder()\n",
    "data['species_number'] = label_encoder.fit_transform(data['species'])"
   ]
  },
  {
   "cell_type": "code",
   "execution_count": 69,
   "metadata": {},
   "outputs": [
    {
     "data": {
      "text/html": [
       "<div>\n",
       "<style scoped>\n",
       "    .dataframe tbody tr th:only-of-type {\n",
       "        vertical-align: middle;\n",
       "    }\n",
       "\n",
       "    .dataframe tbody tr th {\n",
       "        vertical-align: top;\n",
       "    }\n",
       "\n",
       "    .dataframe thead th {\n",
       "        text-align: right;\n",
       "    }\n",
       "</style>\n",
       "<table border=\"1\" class=\"dataframe\">\n",
       "  <thead>\n",
       "    <tr style=\"text-align: right;\">\n",
       "      <th></th>\n",
       "      <th>message</th>\n",
       "      <th>fingers</th>\n",
       "      <th>tail</th>\n",
       "      <th>species</th>\n",
       "      <th>species_number</th>\n",
       "    </tr>\n",
       "  </thead>\n",
       "  <tbody>\n",
       "    <tr>\n",
       "      <th>0</th>\n",
       "      <td>pluvia arbor aquos</td>\n",
       "      <td>4</td>\n",
       "      <td>0</td>\n",
       "      <td>Aquari</td>\n",
       "      <td>0</td>\n",
       "    </tr>\n",
       "    <tr>\n",
       "      <th>1</th>\n",
       "      <td>cosmix xeno nebuz odbitaz</td>\n",
       "      <td>5</td>\n",
       "      <td>1</td>\n",
       "      <td>Zorblax</td>\n",
       "      <td>9</td>\n",
       "    </tr>\n",
       "    <tr>\n",
       "      <th>2</th>\n",
       "      <td>solarix glixx novum galaxum quasar</td>\n",
       "      <td>5</td>\n",
       "      <td>1</td>\n",
       "      <td>Zorblax</td>\n",
       "      <td>9</td>\n",
       "    </tr>\n",
       "    <tr>\n",
       "      <th>3</th>\n",
       "      <td>arbor insectus pesros ekos dootix nimbus</td>\n",
       "      <td>2</td>\n",
       "      <td>1</td>\n",
       "      <td>Florian</td>\n",
       "      <td>4</td>\n",
       "    </tr>\n",
       "    <tr>\n",
       "      <th>4</th>\n",
       "      <td>mermax drakos lorix epikoz deftax</td>\n",
       "      <td>4</td>\n",
       "      <td>0</td>\n",
       "      <td>Faerix</td>\n",
       "      <td>3</td>\n",
       "    </tr>\n",
       "    <tr>\n",
       "      <th>...</th>\n",
       "      <td>...</td>\n",
       "      <td>...</td>\n",
       "      <td>...</td>\n",
       "      <td>...</td>\n",
       "      <td>...</td>\n",
       "    </tr>\n",
       "    <tr>\n",
       "      <th>495</th>\n",
       "      <td>empathix sadix disgux dredax pridius afgstix e...</td>\n",
       "      <td>2</td>\n",
       "      <td>0</td>\n",
       "      <td>Emotivor</td>\n",
       "      <td>2</td>\n",
       "    </tr>\n",
       "    <tr>\n",
       "      <th>496</th>\n",
       "      <td>quasar ustron nebulax meteorn</td>\n",
       "      <td>4</td>\n",
       "      <td>0</td>\n",
       "      <td>Quixnar</td>\n",
       "      <td>7</td>\n",
       "    </tr>\n",
       "    <tr>\n",
       "      <th>497</th>\n",
       "      <td>astron xeno ceaestar astron kometa</td>\n",
       "      <td>6</td>\n",
       "      <td>1</td>\n",
       "      <td>Zorblax</td>\n",
       "      <td>9</td>\n",
       "    </tr>\n",
       "    <tr>\n",
       "      <th>498</th>\n",
       "      <td>sporzom nimbus terram terranix aviana ekos nimbub</td>\n",
       "      <td>2</td>\n",
       "      <td>1</td>\n",
       "      <td>Florian</td>\n",
       "      <td>4</td>\n",
       "    </tr>\n",
       "    <tr>\n",
       "      <th>499</th>\n",
       "      <td>blastix titanos relikum drakos gryphox sirenix</td>\n",
       "      <td>4</td>\n",
       "      <td>1</td>\n",
       "      <td>Mythron</td>\n",
       "      <td>5</td>\n",
       "    </tr>\n",
       "  </tbody>\n",
       "</table>\n",
       "<p>500 rows × 5 columns</p>\n",
       "</div>"
      ],
      "text/plain": [
       "                                               message  fingers  tail  \\\n",
       "0                                   pluvia arbor aquos        4     0   \n",
       "1                            cosmix xeno nebuz odbitaz        5     1   \n",
       "2                   solarix glixx novum galaxum quasar        5     1   \n",
       "3             arbor insectus pesros ekos dootix nimbus        2     1   \n",
       "4                    mermax drakos lorix epikoz deftax        4     0   \n",
       "..                                                 ...      ...   ...   \n",
       "495  empathix sadix disgux dredax pridius afgstix e...        2     0   \n",
       "496                      quasar ustron nebulax meteorn        4     0   \n",
       "497                 astron xeno ceaestar astron kometa        6     1   \n",
       "498  sporzom nimbus terram terranix aviana ekos nimbub        2     1   \n",
       "499     blastix titanos relikum drakos gryphox sirenix        4     1   \n",
       "\n",
       "      species  species_number  \n",
       "0      Aquari               0  \n",
       "1     Zorblax               9  \n",
       "2     Zorblax               9  \n",
       "3     Florian               4  \n",
       "4      Faerix               3  \n",
       "..        ...             ...  \n",
       "495  Emotivor               2  \n",
       "496   Quixnar               7  \n",
       "497   Zorblax               9  \n",
       "498   Florian               4  \n",
       "499   Mythron               5  \n",
       "\n",
       "[500 rows x 5 columns]"
      ]
     },
     "execution_count": 69,
     "metadata": {},
     "output_type": "execute_result"
    }
   ],
   "source": [
    "data"
   ]
  },
  {
   "cell_type": "code",
   "execution_count": 70,
   "metadata": {},
   "outputs": [],
   "source": [
    "from sklearn.feature_extraction.text import TfidfVectorizer\n",
    "vectorizer = TfidfVectorizer()\n",
    "X_message = vectorizer.fit_transform(data['message'])"
   ]
  },
  {
   "cell_type": "code",
   "execution_count": 71,
   "metadata": {},
   "outputs": [
    {
     "data": {
      "text/plain": [
       "(500, 636)"
      ]
     },
     "execution_count": 71,
     "metadata": {},
     "output_type": "execute_result"
    }
   ],
   "source": [
    "X_message.shape"
   ]
  },
  {
   "cell_type": "code",
   "execution_count": 72,
   "metadata": {},
   "outputs": [
    {
     "data": {
      "text/plain": [
       "matrix([[0., 0., 0., ..., 0., 0., 0.],\n",
       "        [0., 0., 0., ..., 0., 0., 0.],\n",
       "        [0., 0., 0., ..., 0., 0., 0.],\n",
       "        [0., 0., 0., ..., 0., 0., 0.],\n",
       "        [0., 0., 0., ..., 0., 0., 0.]])"
      ]
     },
     "execution_count": 72,
     "metadata": {},
     "output_type": "execute_result"
    }
   ],
   "source": [
    "X_message[:5].todense()"
   ]
  },
  {
   "cell_type": "code",
   "execution_count": 73,
   "metadata": {},
   "outputs": [
    {
     "name": "stdout",
     "output_type": "stream",
     "text": [
      "['acon' 'aeon' 'aeop' 'aeqn' 'afgstix' 'airenix' 'akiana' 'akon' 'algorid'\n",
      " 'algorix' 'aneius' 'angsqix' 'angstic' 'angstix' 'angstox' 'angxtix'\n",
      " 'annstix' 'anxids' 'anxims' 'anxius' 'anxiuz' 'anzius' 'aoblax' 'aqjos'\n",
      " 'aqpos' 'aquoe' 'aquon' 'aquos' 'arbon' 'arbor' 'arbsr' 'arcor' 'ariana'\n",
      " 'asbron' 'aslron' 'astrln' 'astrob' 'astroh' 'astron' 'astrrn']\n"
     ]
    }
   ],
   "source": [
    "feature_names = vectorizer.get_feature_names_out()\n",
    "print(feature_names[:40]) "
   ]
  },
  {
   "cell_type": "code",
   "execution_count": 74,
   "metadata": {},
   "outputs": [
    {
     "name": "stdout",
     "output_type": "stream",
     "text": [
      "[('aquos', 0.5994832620321487), ('arbor', 0.582840857925647), ('pluvia', 0.5485584315966621)]\n"
     ]
    }
   ],
   "source": [
    "first_message_tfidf = X_message[0].todense().tolist()[0] \n",
    "word_tfidf_pairs = [(feature_names[i], first_message_tfidf[i]) for i in range(len(feature_names)) if first_message_tfidf[i] > 0]\n",
    "print(word_tfidf_pairs)"
   ]
  },
  {
   "cell_type": "code",
   "execution_count": 75,
   "metadata": {},
   "outputs": [
    {
     "name": "stdout",
     "output_type": "stream",
     "text": [
      "Sparsity: 99.19%\n"
     ]
    }
   ],
   "source": [
    "sparsity = 1.0 - (X_message.count_nonzero() / float(X_message.shape[0] * X_message.shape[1]))\n",
    "print(f\"Sparsity: {sparsity * 100:.2f}%\")"
   ]
  },
  {
   "cell_type": "code",
   "execution_count": 76,
   "metadata": {},
   "outputs": [],
   "source": [
    "import numpy as np\n",
    "from scipy.sparse import hstack\n",
    "\n",
    "X_features = hstack([X_message, np.array(data[['fingers', 'tail']])])\n",
    "y = data['species']"
   ]
  },
  {
   "cell_type": "code",
   "execution_count": 77,
   "metadata": {},
   "outputs": [
    {
     "name": "stdout",
     "output_type": "stream",
     "text": [
      "Validation Accuracy: 0.88\n"
     ]
    }
   ],
   "source": [
    "from sklearn.ensemble import RandomForestClassifier\n",
    "from sklearn.model_selection import train_test_split\n",
    "from sklearn.metrics import accuracy_score\n",
    "\n",
    "X_train, X_val, y_train, y_val = train_test_split(X_features, y, test_size=0.1, random_state=42)\n",
    "\n",
    "model = RandomForestClassifier()\n",
    "model.fit(X_train, y_train)\n",
    "\n",
    "y_pred = model.predict(X_val)\n",
    "accuracy = accuracy_score(y_val, y_pred)\n",
    "print(f'Validation Accuracy: {accuracy}')"
   ]
  },
  {
   "cell_type": "code",
   "execution_count": 78,
   "metadata": {},
   "outputs": [],
   "source": [
    "test_data['tail']=test_data['tail'].map({'yes':1, 'no':0})"
   ]
  },
  {
   "cell_type": "code",
   "execution_count": 81,
   "metadata": {},
   "outputs": [
    {
     "data": {
      "text/html": [
       "<div>\n",
       "<style scoped>\n",
       "    .dataframe tbody tr th:only-of-type {\n",
       "        vertical-align: middle;\n",
       "    }\n",
       "\n",
       "    .dataframe tbody tr th {\n",
       "        vertical-align: top;\n",
       "    }\n",
       "\n",
       "    .dataframe thead th {\n",
       "        text-align: right;\n",
       "    }\n",
       "</style>\n",
       "<table border=\"1\" class=\"dataframe\">\n",
       "  <thead>\n",
       "    <tr style=\"text-align: right;\">\n",
       "      <th></th>\n",
       "      <th>message</th>\n",
       "      <th>fingers</th>\n",
       "      <th>tail</th>\n",
       "    </tr>\n",
       "  </thead>\n",
       "  <tbody>\n",
       "    <tr>\n",
       "      <th>0</th>\n",
       "      <td>iephyr terram nimbus terram faunar foliar</td>\n",
       "      <td>2</td>\n",
       "      <td>0</td>\n",
       "    </tr>\n",
       "    <tr>\n",
       "      <th>1</th>\n",
       "      <td>joyzor uleex luvium caloox shockus blissae</td>\n",
       "      <td>4</td>\n",
       "      <td>1</td>\n",
       "    </tr>\n",
       "    <tr>\n",
       "      <th>2</th>\n",
       "      <td>aquos arbor ventuc</td>\n",
       "      <td>4</td>\n",
       "      <td>1</td>\n",
       "    </tr>\n",
       "    <tr>\n",
       "      <th>3</th>\n",
       "      <td>nympha nympha epikoz nympha mythox mythox mythox</td>\n",
       "      <td>3</td>\n",
       "      <td>0</td>\n",
       "    </tr>\n",
       "    <tr>\n",
       "      <th>4</th>\n",
       "      <td>diitax sibenix fabulon</td>\n",
       "      <td>4</td>\n",
       "      <td>1</td>\n",
       "    </tr>\n",
       "    <tr>\n",
       "      <th>...</th>\n",
       "      <td>...</td>\n",
       "      <td>...</td>\n",
       "      <td>...</td>\n",
       "    </tr>\n",
       "    <tr>\n",
       "      <th>294</th>\n",
       "      <td>fabuion drakos lorix relikum cyclopix</td>\n",
       "      <td>4</td>\n",
       "      <td>1</td>\n",
       "    </tr>\n",
       "    <tr>\n",
       "      <th>295</th>\n",
       "      <td>codex cybrex algorix synapz mechan nanozom dotax</td>\n",
       "      <td>5</td>\n",
       "      <td>1</td>\n",
       "    </tr>\n",
       "    <tr>\n",
       "      <th>296</th>\n",
       "      <td>centarex mythox nympha krakos</td>\n",
       "      <td>3</td>\n",
       "      <td>1</td>\n",
       "    </tr>\n",
       "    <tr>\n",
       "      <th>297</th>\n",
       "      <td>orbitaz astron glixx novara novrm ufox qcasar ...</td>\n",
       "      <td>3</td>\n",
       "      <td>0</td>\n",
       "    </tr>\n",
       "    <tr>\n",
       "      <th>298</th>\n",
       "      <td>blissam sorrowz blissam fearix sadix</td>\n",
       "      <td>2</td>\n",
       "      <td>0</td>\n",
       "    </tr>\n",
       "  </tbody>\n",
       "</table>\n",
       "<p>299 rows × 3 columns</p>\n",
       "</div>"
      ],
      "text/plain": [
       "                                               message  fingers  tail\n",
       "0            iephyr terram nimbus terram faunar foliar        2     0\n",
       "1           joyzor uleex luvium caloox shockus blissae        4     1\n",
       "2                                   aquos arbor ventuc        4     1\n",
       "3     nympha nympha epikoz nympha mythox mythox mythox        3     0\n",
       "4                               diitax sibenix fabulon        4     1\n",
       "..                                                 ...      ...   ...\n",
       "294              fabuion drakos lorix relikum cyclopix        4     1\n",
       "295   codex cybrex algorix synapz mechan nanozom dotax        5     1\n",
       "296                      centarex mythox nympha krakos        3     1\n",
       "297  orbitaz astron glixx novara novrm ufox qcasar ...        3     0\n",
       "298               blissam sorrowz blissam fearix sadix        2     0\n",
       "\n",
       "[299 rows x 3 columns]"
      ]
     },
     "execution_count": 81,
     "metadata": {},
     "output_type": "execute_result"
    }
   ],
   "source": [
    "test_data"
   ]
  },
  {
   "cell_type": "code",
   "execution_count": 82,
   "metadata": {},
   "outputs": [],
   "source": [
    "X_test_message = vectorizer.transform(test_data['message'])\n",
    "X_test_features = hstack([X_test_message, np.array(test_data[['fingers', 'tail']])])"
   ]
  },
  {
   "cell_type": "code",
   "execution_count": 83,
   "metadata": {},
   "outputs": [],
   "source": [
    "y_test_pred = model.predict(X_test_features)"
   ]
  },
  {
   "cell_type": "code",
   "execution_count": 88,
   "metadata": {},
   "outputs": [
    {
     "data": {
      "text/plain": [
       "array(['Aquari', 'Sentire', 'Florian', 'Mythron', 'Mythron', 'Faerix',\n",
       "       'Faerix', 'Faerix', 'Emotivor', 'Florian', 'Mythron', 'Emotivor',\n",
       "       'Zorblax', 'Quixnar', 'Mythron', 'Aquari', 'Florian', 'Cybex',\n",
       "       'Aquari', 'Aquari', 'Quixnar', 'Emotivor', 'Quixnar', 'Nexoon',\n",
       "       'Mythron', 'Nexoon', 'Aquari', 'Sentire', 'Emotivor', 'Mythron',\n",
       "       'Cybex', 'Emotivor', 'Mythron', 'Emotivor', 'Mythron', 'Emotivor',\n",
       "       'Aquari', 'Florian', 'Aquari', 'Quixnar', 'Emotivor', 'Quixnar',\n",
       "       'Mythron', 'Nexoon', 'Aquari', 'Emotivor', 'Quixnar', 'Quixnar',\n",
       "       'Zorblax', 'Florian', 'Emotivor', 'Quixnar', 'Sentire', 'Quixnar',\n",
       "       'Emotivor', 'Emotivor', 'Sentire', 'Emotivor', 'Mythron', 'Cybex',\n",
       "       'Cybex', 'Cybex', 'Mythron', 'Emotivor', 'Sentire', 'Mythron',\n",
       "       'Sentire', 'Mythron', 'Nexoon', 'Quixnar', 'Quixnar', 'Emotivor',\n",
       "       'Emotivor', 'Zorblax', 'Emotivor', 'Sentire', 'Cybex', 'Faerix',\n",
       "       'Nexoon', 'Emotivor', 'Emotivor', 'Cybex', 'Emotivor', 'Florian',\n",
       "       'Nexoon', 'Sentire', 'Faerix', 'Zorblax', 'Nexoon', 'Faerix',\n",
       "       'Sentire', 'Mythron', 'Quixnar', 'Zorblax', 'Emotivor', 'Florian',\n",
       "       'Mythron', 'Nexoon', 'Emotivor', 'Mythron', 'Florian', 'Sentire',\n",
       "       'Sentire', 'Aquari', 'Nexoon', 'Zorblax', 'Aquari', 'Emotivor',\n",
       "       'Quixnar', 'Emotivor', 'Emotivor', 'Mythron', 'Aquari', 'Mythron',\n",
       "       'Aquari', 'Faerix', 'Mythron', 'Cybex', 'Faerix', 'Quixnar',\n",
       "       'Mythron', 'Sentire', 'Cybex', 'Aquari', 'Quixnar', 'Florian',\n",
       "       'Cybex', 'Florian', 'Quixnar', 'Zorblax', 'Nexoon', 'Zorblax',\n",
       "       'Mythron', 'Aquari', 'Sentire', 'Emotivor', 'Cybex', 'Sentire',\n",
       "       'Nexoon', 'Mythron', 'Cybex', 'Emotivor', 'Florian', 'Sentire',\n",
       "       'Quixnar', 'Aquari', 'Emotivor', 'Mythron', 'Aquari', 'Nexoon',\n",
       "       'Emotivor', 'Cybex', 'Aquari', 'Emotivor', 'Aquari', 'Sentire',\n",
       "       'Aquari', 'Emotivor', 'Florian', 'Emotivor', 'Emotivor', 'Aquari',\n",
       "       'Cybex', 'Cybex', 'Nexoon', 'Emotivor', 'Aquari', 'Nexoon',\n",
       "       'Mythron', 'Cybex', 'Faerix', 'Emotivor', 'Zorblax', 'Emotivor',\n",
       "       'Cybex', 'Sentire', 'Florian', 'Sentire', 'Florian', 'Emotivor',\n",
       "       'Emotivor', 'Zorblax', 'Aquari', 'Mythron', 'Faerix', 'Quixnar',\n",
       "       'Emotivor', 'Cybex', 'Nexoon', 'Quixnar', 'Sentire', 'Zorblax',\n",
       "       'Mythron', 'Zorblax', 'Cybex', 'Cybex', 'Mythron', 'Faerix',\n",
       "       'Florian', 'Nexoon', 'Cybex', 'Faerix', 'Emotivor', 'Aquari',\n",
       "       'Mythron', 'Cybex', 'Mythron', 'Aquari', 'Quixnar', 'Faerix',\n",
       "       'Mythron', 'Faerix', 'Zorblax', 'Cybex', 'Aquari', 'Emotivor',\n",
       "       'Florian', 'Faerix', 'Nexoon', 'Nexoon', 'Aquari', 'Sentire',\n",
       "       'Nexoon', 'Emotivor', 'Aquari', 'Sentire', 'Emotivor', 'Mythron',\n",
       "       'Aquari', 'Cybex', 'Faerix', 'Quixnar', 'Aquari', 'Faerix',\n",
       "       'Cybex', 'Mythron', 'Cybex', 'Quixnar', 'Faerix', 'Zorblax',\n",
       "       'Quixnar', 'Nexoon', 'Mythron', 'Emotivor', 'Quixnar', 'Florian',\n",
       "       'Florian', 'Emotivor', 'Aquari', 'Aquari', 'Quixnar', 'Cybex',\n",
       "       'Florian', 'Quixnar', 'Quixnar', 'Quixnar', 'Aquari', 'Faerix',\n",
       "       'Cybex', 'Zorblax', 'Mythron', 'Mythron', 'Zorblax', 'Faerix',\n",
       "       'Zorblax', 'Mythron', 'Nexoon', 'Florian', 'Quixnar', 'Zorblax',\n",
       "       'Cybex', 'Quixnar', 'Emotivor', 'Faerix', 'Faerix', 'Quixnar',\n",
       "       'Quixnar', 'Florian', 'Cybex', 'Aquari', 'Sentire', 'Mythron',\n",
       "       'Sentire', 'Aquari', 'Emotivor', 'Aquari', 'Cybex', 'Aquari',\n",
       "       'Florian', 'Cybex', 'Quixnar', 'Emotivor', 'Emotivor', 'Florian',\n",
       "       'Mythron', 'Nexoon', 'Mythron', 'Quixnar', 'Emotivor'],\n",
       "      dtype=object)"
      ]
     },
     "execution_count": 88,
     "metadata": {},
     "output_type": "execute_result"
    }
   ],
   "source": [
    "y_test_pred"
   ]
  },
  {
   "cell_type": "code",
   "execution_count": 93,
   "metadata": {},
   "outputs": [
    {
     "data": {
      "text/html": [
       "<div>\n",
       "<style scoped>\n",
       "    .dataframe tbody tr th:only-of-type {\n",
       "        vertical-align: middle;\n",
       "    }\n",
       "\n",
       "    .dataframe tbody tr th {\n",
       "        vertical-align: top;\n",
       "    }\n",
       "\n",
       "    .dataframe thead th {\n",
       "        text-align: right;\n",
       "    }\n",
       "</style>\n",
       "<table border=\"1\" class=\"dataframe\">\n",
       "  <thead>\n",
       "    <tr style=\"text-align: right;\">\n",
       "      <th></th>\n",
       "      <th>0</th>\n",
       "    </tr>\n",
       "  </thead>\n",
       "  <tbody>\n",
       "    <tr>\n",
       "      <th>0</th>\n",
       "      <td>Aquari</td>\n",
       "    </tr>\n",
       "    <tr>\n",
       "      <th>1</th>\n",
       "      <td>Sentire</td>\n",
       "    </tr>\n",
       "    <tr>\n",
       "      <th>2</th>\n",
       "      <td>Florian</td>\n",
       "    </tr>\n",
       "    <tr>\n",
       "      <th>3</th>\n",
       "      <td>Mythron</td>\n",
       "    </tr>\n",
       "    <tr>\n",
       "      <th>4</th>\n",
       "      <td>Mythron</td>\n",
       "    </tr>\n",
       "    <tr>\n",
       "      <th>...</th>\n",
       "      <td>...</td>\n",
       "    </tr>\n",
       "    <tr>\n",
       "      <th>294</th>\n",
       "      <td>Mythron</td>\n",
       "    </tr>\n",
       "    <tr>\n",
       "      <th>295</th>\n",
       "      <td>Nexoon</td>\n",
       "    </tr>\n",
       "    <tr>\n",
       "      <th>296</th>\n",
       "      <td>Mythron</td>\n",
       "    </tr>\n",
       "    <tr>\n",
       "      <th>297</th>\n",
       "      <td>Quixnar</td>\n",
       "    </tr>\n",
       "    <tr>\n",
       "      <th>298</th>\n",
       "      <td>Emotivor</td>\n",
       "    </tr>\n",
       "  </tbody>\n",
       "</table>\n",
       "<p>299 rows × 1 columns</p>\n",
       "</div>"
      ],
      "text/plain": [
       "            0\n",
       "0      Aquari\n",
       "1     Sentire\n",
       "2     Florian\n",
       "3     Mythron\n",
       "4     Mythron\n",
       "..        ...\n",
       "294   Mythron\n",
       "295    Nexoon\n",
       "296   Mythron\n",
       "297   Quixnar\n",
       "298  Emotivor\n",
       "\n",
       "[299 rows x 1 columns]"
      ]
     },
     "execution_count": 93,
     "metadata": {},
     "output_type": "execute_result"
    }
   ],
   "source": [
    "pd.DataFrame(y_test_pred)"
   ]
  },
  {
   "cell_type": "code",
   "execution_count": null,
   "metadata": {},
   "outputs": [],
   "source": []
  }
 ],
 "metadata": {
  "kernelspec": {
   "display_name": "Python 3",
   "language": "python",
   "name": "python3"
  },
  "language_info": {
   "codemirror_mode": {
    "name": "ipython",
    "version": 3
   },
   "file_extension": ".py",
   "mimetype": "text/x-python",
   "name": "python",
   "nbconvert_exporter": "python",
   "pygments_lexer": "ipython3",
   "version": "3.12.5"
  }
 },
 "nbformat": 4,
 "nbformat_minor": 2
}
