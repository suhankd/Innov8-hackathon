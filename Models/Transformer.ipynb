{
 "cells": [
  {
   "cell_type": "code",
   "execution_count": 9,
   "metadata": {},
   "outputs": [],
   "source": [
    "# Dependencies\n",
    "\n",
    "import numpy as np\n",
    "import pandas as pd\n",
    "\n",
    "import torch\n",
    "import torch.nn as nn\n",
    "from torch.utils.data import Dataset, DataLoader\n",
    "from torch.optim import AdamW\n",
    "from keras.utils import to_categorical\n",
    "\n",
    "\n",
    "import transformers\n",
    "from transformers import AutoModel, AutoTokenizer\n",
    "\n",
    "from sklearn.preprocessing import LabelEncoder\n",
    "from sklearn.model_selection import train_test_split\n",
    "\n",
    "from tokenizers import Tokenizer, models, pre_tokenizers, decoders, processors"
   ]
  },
  {
   "cell_type": "code",
   "execution_count": 10,
   "metadata": {},
   "outputs": [],
   "source": [
    "class TransformerModel(nn.Module):\n",
    "    def __init__(self, transformer, hidden_dim=16, n_classes=12):\n",
    "        super(TransformerModel, self).__init__()\n",
    "        self.transformer = transformer\n",
    "        self.hidden_dim = hidden_dim\n",
    "        self.n_classes = n_classes\n",
    "\n",
    "        self.classifier = nn.Linear(transformer.config.hidden_size, n_classes)\n",
    "    \n",
    "    def forward(self, input_word_ids):\n",
    "        transformer_output = self.transformer(input_word_ids)\n",
    "\n",
    "        cls_token = transformer_output.last_hidden_state[:, 0, :]\n",
    "        logits = self.classifier(cls_token)\n",
    "        probabilities = torch.nn.functional.softmax(logits, dim=1)\n",
    "\n",
    "        return probabilities\n"
   ]
  },
  {
   "cell_type": "code",
   "execution_count": 11,
   "metadata": {},
   "outputs": [],
   "source": [
    "def regular_encode(texts, tokenizer, maxlen=16):\n",
    "\n",
    "    enc_di = tokenizer.batch_encode_plus(\n",
    "        texts,\n",
    "        return_token_type_ids=False,\n",
    "        pad_to_max_length=True,\n",
    "        max_length=maxlen\n",
    "    )\n",
    "    \n",
    "    return np.array(enc_di['input_ids'])"
   ]
  },
  {
   "cell_type": "code",
   "execution_count": 12,
   "metadata": {},
   "outputs": [
    {
     "name": "stderr",
     "output_type": "stream",
     "text": [
      "C:\\Users\\suhan\\AppData\\Local\\Packages\\PythonSoftwareFoundation.Python.3.12_qbz5n2kfra8p0\\LocalCache\\local-packages\\Python312\\site-packages\\transformers\\tokenization_utils_base.py:1601: FutureWarning: `clean_up_tokenization_spaces` was not set. It will be set to `True` by default. This behavior will be depracted in transformers v4.45, and will be then set to `False` by default. For more details check this issue: https://github.com/huggingface/transformers/issues/31884\n",
      "  warnings.warn(\n"
     ]
    }
   ],
   "source": [
    "EPOCHS = 10\n",
    "BATCH_SIZE = 10\n",
    "MAX_LEN = 16\n",
    "\n",
    "MODEL = 'bert-base-uncased'\n",
    "transformer_layer = AutoModel.from_pretrained(MODEL)\n",
    "tokenizer = AutoTokenizer.from_pretrained(MODEL)"
   ]
  },
  {
   "cell_type": "code",
   "execution_count": 14,
   "metadata": {},
   "outputs": [
    {
     "name": "stderr",
     "output_type": "stream",
     "text": [
      "Truncation was not explicitly activated but `max_length` is provided a specific value, please use `truncation=True` to explicitly truncate examples to max length. Defaulting to 'longest_first' truncation strategy. If you encode pairs of sequences (GLUE-style) with the tokenizer you can select this strategy more precisely by providing a specific strategy to `truncation`.\n",
      "C:\\Users\\suhan\\AppData\\Local\\Packages\\PythonSoftwareFoundation.Python.3.12_qbz5n2kfra8p0\\LocalCache\\local-packages\\Python312\\site-packages\\transformers\\tokenization_utils_base.py:2870: FutureWarning: The `pad_to_max_length` argument is deprecated and will be removed in a future version, use `padding=True` or `padding='longest'` to pad to the longest sequence in the batch, or use `padding='max_length'` to pad to a max length. In this case, you can give a specific length with `max_length` (e.g. `max_length=45`) or leave max_length to None to pad to the maximal input size of the model (e.g. 512 for Bert).\n",
      "  warnings.warn(\n"
     ]
    }
   ],
   "source": [
    "df = pd.read_csv(\"../Data/processedData.csv\")\n",
    "\n",
    "label_encoder = LabelEncoder()\n",
    "\n",
    "X_train, X_test, y_train, y_test = train_test_split(df[['processedMessage','fingers','tail']],\n",
    "                                                    df['species_group'], random_state=33, test_size=0.2)\n",
    "\n",
    "label_encoder = LabelEncoder()\n",
    "label_encoder.fit(df['species_group'])\n",
    "\n",
    "y_train = to_categorical(label_encoder.transform(y_train),num_classes=12)\n",
    "y_test = to_categorical(label_encoder.transform(y_test),num_classes=12)\n",
    "\n",
    "x_train_msg = regular_encode(list(X_train['processedMessage']), tokenizer, maxlen=16)\n",
    "x_test_msg = regular_encode(list(X_test['processedMessage']), tokenizer, maxlen=16)"
   ]
  },
  {
   "cell_type": "code",
   "execution_count": 15,
   "metadata": {},
   "outputs": [],
   "source": [
    "class MessageDataset(Dataset):\n",
    "    \n",
    "    def __init__(self, messages, labels):\n",
    "        self.messages = messages\n",
    "        self.labels = labels\n",
    "\n",
    "    def __len__(self):\n",
    "        return len(self.messages)\n",
    "    \n",
    "    def __getitem__(self, index):\n",
    "        message = torch.tensor(self.messages[index], dtype=torch.long)\n",
    "        label = torch.tensor(self.labels[index], dtype=torch.float32)\n",
    "        return message, label\n",
    "    \n",
    "msg_train_dataset = MessageDataset(x_train_msg, y_train)\n",
    "msg_test_dataset = MessageDataset(x_test_msg, y_test)\n",
    "\n",
    "train_loader = DataLoader(msg_train_dataset, batch_size=32, shuffle=True)\n",
    "test_loader = DataLoader(msg_test_dataset, batch_size=32, shuffle=False)"
   ]
  },
  {
   "cell_type": "code",
   "execution_count": 16,
   "metadata": {},
   "outputs": [
    {
     "name": "stderr",
     "output_type": "stream",
     "text": [
      "We strongly recommend passing in an `attention_mask` since your input_ids may be padded. See https://huggingface.co/docs/transformers/troubleshooting#incorrect-output-when-padding-tokens-arent-masked.\n"
     ]
    },
    {
     "name": "stdout",
     "output_type": "stream",
     "text": [
      "Epoch 1, Loss: 2.363334399003249\n",
      "Epoch 2, Loss: 2.1423667210799\n",
      "Epoch 3, Loss: 2.1130019976542544\n",
      "Epoch 4, Loss: 2.1100034346947303\n",
      "Epoch 5, Loss: 2.1178114230816183\n",
      "Epoch 6, Loss: 2.087646612754235\n",
      "Epoch 7, Loss: 2.078140744796166\n",
      "Epoch 8, Loss: 2.0767063727745643\n",
      "Epoch 9, Loss: 2.1023700604071984\n",
      "Epoch 10, Loss: 2.032600916348971\n"
     ]
    }
   ],
   "source": [
    "model = TransformerModel(transformer_layer)\n",
    "criterion = nn.CrossEntropyLoss()\n",
    "optimizer = torch.optim.Adam(model.parameters(), lr=1e-4)\n",
    "\n",
    "for epoch in range(EPOCHS):\n",
    "    model.train()\n",
    "    total_loss = 0\n",
    "\n",
    "    for batch in train_loader:\n",
    "        messages, labels = batch\n",
    "\n",
    "        optimizer.zero_grad()\n",
    "        outputs = model(messages)\n",
    "        loss = criterion(outputs, labels)\n",
    "        loss.backward()\n",
    "        optimizer.step()\n",
    "\n",
    "        total_loss += loss.item()\n",
    "    \n",
    "    print(f\"Epoch {epoch+1}, Loss: {total_loss / len(train_loader)}\")"
   ]
  },
  {
   "cell_type": "code",
   "execution_count": 17,
   "metadata": {},
   "outputs": [
    {
     "data": {
      "text/plain": [
       "tensor([[1.5057e-04, 1.4743e-04, 2.1722e-04,  ..., 8.2423e-05, 9.8102e-05,\n",
       "         5.5481e-04],\n",
       "        [1.9425e-04, 6.8821e-04, 4.1634e-04,  ..., 2.4839e-03, 9.8222e-05,\n",
       "         8.0021e-04],\n",
       "        [3.9960e-05, 8.7018e-05, 1.0069e-04,  ..., 9.9786e-01, 7.3613e-05,\n",
       "         1.3256e-03],\n",
       "        ...,\n",
       "        [1.0109e-04, 9.9866e-01, 1.2894e-04,  ..., 1.2206e-04, 1.1233e-04,\n",
       "         1.7141e-04],\n",
       "        [2.0625e-04, 9.6805e-05, 4.5056e-04,  ..., 1.2190e-04, 1.4898e-04,\n",
       "         3.8465e-04],\n",
       "        [4.2544e-05, 9.5662e-05, 1.1015e-04,  ..., 9.9726e-01, 7.6879e-05,\n",
       "         1.8229e-03]])"
      ]
     },
     "execution_count": 17,
     "metadata": {},
     "output_type": "execute_result"
    }
   ],
   "source": [
    "all_probs = []\n",
    "\n",
    "model.eval()\n",
    "with torch.no_grad():\n",
    "    for batch in test_loader:\n",
    "        messages, labels = batch\n",
    "\n",
    "        probabilities = model(messages)\n",
    "        all_probs.append(probabilities)\n",
    "\n",
    "all_probs = torch.cat(all_probs, dim=0)\n",
    "\n",
    "all_probs"
   ]
  },
  {
   "cell_type": "code",
   "execution_count": 18,
   "metadata": {},
   "outputs": [
    {
     "name": "stdout",
     "output_type": "stream",
     "text": [
      "              precision    recall  f1-score   support\n",
      "\n",
      "           0       0.12      1.00      0.22         1\n",
      "           1       0.67      0.55      0.60        11\n",
      "           2       0.00      0.00      0.00         0\n",
      "           3       0.50      0.40      0.44        10\n",
      "           4       0.00      0.00      0.00         0\n",
      "           5       0.00      0.00      0.00         0\n",
      "           6       1.00      0.62      0.77        24\n",
      "           7       1.00      0.71      0.83        17\n",
      "           8       0.29      0.50      0.36         4\n",
      "           9       1.00      0.68      0.81        22\n",
      "          10       0.50      0.36      0.42        11\n",
      "          11       0.00      0.00      0.00         0\n",
      "\n",
      "    accuracy                           0.59       100\n",
      "   macro avg       0.42      0.40      0.37       100\n",
      "weighted avg       0.82      0.59      0.68       100\n",
      "\n"
     ]
    },
    {
     "name": "stderr",
     "output_type": "stream",
     "text": [
      "C:\\Users\\suhan\\AppData\\Local\\Packages\\PythonSoftwareFoundation.Python.3.12_qbz5n2kfra8p0\\LocalCache\\local-packages\\Python312\\site-packages\\sklearn\\metrics\\_classification.py:1531: UndefinedMetricWarning: Recall is ill-defined and being set to 0.0 in labels with no true samples. Use `zero_division` parameter to control this behavior.\n",
      "  _warn_prf(average, modifier, f\"{metric.capitalize()} is\", len(result))\n",
      "C:\\Users\\suhan\\AppData\\Local\\Packages\\PythonSoftwareFoundation.Python.3.12_qbz5n2kfra8p0\\LocalCache\\local-packages\\Python312\\site-packages\\sklearn\\metrics\\_classification.py:1531: UndefinedMetricWarning: Recall is ill-defined and being set to 0.0 in labels with no true samples. Use `zero_division` parameter to control this behavior.\n",
      "  _warn_prf(average, modifier, f\"{metric.capitalize()} is\", len(result))\n",
      "C:\\Users\\suhan\\AppData\\Local\\Packages\\PythonSoftwareFoundation.Python.3.12_qbz5n2kfra8p0\\LocalCache\\local-packages\\Python312\\site-packages\\sklearn\\metrics\\_classification.py:1531: UndefinedMetricWarning: Recall is ill-defined and being set to 0.0 in labels with no true samples. Use `zero_division` parameter to control this behavior.\n",
      "  _warn_prf(average, modifier, f\"{metric.capitalize()} is\", len(result))\n"
     ]
    }
   ],
   "source": [
    "from sklearn.metrics import classification_report\n",
    "\n",
    "y_pred = np.argmax(np.array(all_probs), axis=1)\n",
    "y_test_labels = np.argmax(np.array(y_test), axis=1)\n",
    "\n",
    "print(classification_report(np.array(y_pred), y_test_labels))"
   ]
  },
  {
   "cell_type": "code",
   "execution_count": 19,
   "metadata": {},
   "outputs": [
    {
     "data": {
      "text/plain": [
       "array([[1.28688701e-01, 2.10309570e-02, 3.82114380e-34, ...,\n",
       "        2.03014076e-01, 1.16654860e-01, 6.29651801e-02],\n",
       "       [1.51433910e-01, 1.24724799e-01, 4.06273374e-16, ...,\n",
       "        1.20660337e-01, 7.93765239e-02, 2.65726190e-02],\n",
       "       [1.28688701e-01, 2.10309570e-02, 3.82114380e-34, ...,\n",
       "        2.03014076e-01, 1.16654860e-01, 6.29651801e-02],\n",
       "       ...,\n",
       "       [3.08284066e-02, 2.92249699e-01, 5.20175990e-01, ...,\n",
       "        1.19237968e-03, 4.69583723e-03, 9.93042492e-04],\n",
       "       [7.00135816e-02, 2.23223595e-01, 3.35191456e-05, ...,\n",
       "        1.62062653e-02, 2.02512148e-02, 4.96073193e-03],\n",
       "       [1.51433910e-01, 1.24724799e-01, 4.06273374e-16, ...,\n",
       "        1.20660337e-01, 7.93765239e-02, 2.65726190e-02]])"
      ]
     },
     "execution_count": 19,
     "metadata": {},
     "output_type": "execute_result"
    }
   ],
   "source": [
    "# Finger probability array\n",
    "\n",
    "from sklearn.naive_bayes import GaussianNB\n",
    "\n",
    "y_train_class = np.argmax(y_train,axis=1)\n",
    "y_test_class = np.argmax(y_test,axis=1)\n",
    "\n",
    "gnb_fingers = GaussianNB()\n",
    "gnb_fingers.fit(X_train['fingers'].values.reshape(-1, 1),y_train_class)\n",
    "\n",
    "y_pred_fingers = gnb_fingers.predict_proba(X_test['fingers'].values.reshape(-1, 1))\n",
    "y_pred_fingers"
   ]
  },
  {
   "cell_type": "code",
   "execution_count": 20,
   "metadata": {},
   "outputs": [
    {
     "data": {
      "text/plain": [
       "array([[0.1   , 0.115 , 0.0375, ..., 0.1125, 0.09  , 0.1075],\n",
       "       [0.1   , 0.115 , 0.0375, ..., 0.1125, 0.09  , 0.1075],\n",
       "       [0.1   , 0.115 , 0.0375, ..., 0.1125, 0.09  , 0.1075],\n",
       "       ...,\n",
       "       [0.1   , 0.115 , 0.0375, ..., 0.1125, 0.09  , 0.1075],\n",
       "       [0.1   , 0.115 , 0.0375, ..., 0.1125, 0.09  , 0.1075],\n",
       "       [0.1   , 0.115 , 0.0375, ..., 0.1125, 0.09  , 0.1075]])"
      ]
     },
     "execution_count": 20,
     "metadata": {},
     "output_type": "execute_result"
    }
   ],
   "source": [
    "# Tail probability array\n",
    "\n",
    "from sklearn.naive_bayes import MultinomialNB\n",
    "\n",
    "label_encoder = LabelEncoder()\n",
    "label_encoder.fit(df['tail'])\n",
    "\n",
    "X_train_tail = (label_encoder.transform(X_train['tail'])).reshape(-1,1)\n",
    "X_test_tail = label_encoder.transform(X_test['tail']).reshape(-1,1)\n",
    "\n",
    "mnb_tail = MultinomialNB()\n",
    "mnb_tail.fit(X_train_tail, y_train_class)\n",
    "\n",
    "y_pred_tail = mnb_tail.predict_proba(X_test_tail)\n",
    "\n",
    "y_pred_tail"
   ]
  },
  {
   "cell_type": "code",
   "execution_count": 21,
   "metadata": {},
   "outputs": [
    {
     "name": "stdout",
     "output_type": "stream",
     "text": [
      "              precision    recall  f1-score   support\n",
      "\n",
      "           0       1.00      0.12      0.22         8\n",
      "           1       0.60      0.67      0.63         9\n",
      "           2       0.00      0.00      0.00         5\n",
      "           3       0.60      0.38      0.46         8\n",
      "           4       0.00      0.00      0.00         3\n",
      "           5       0.00      0.00      0.00         2\n",
      "           6       0.56      1.00      0.71        15\n",
      "           7       0.75      1.00      0.86        12\n",
      "           8       0.40      0.29      0.33         7\n",
      "           9       0.71      1.00      0.83        15\n",
      "          10       0.33      0.50      0.40         8\n",
      "          11       0.33      0.12      0.18         8\n",
      "\n",
      "    accuracy                           0.59       100\n",
      "   macro avg       0.44      0.42      0.39       100\n",
      "weighted avg       0.54      0.59      0.52       100\n",
      "\n"
     ]
    },
    {
     "name": "stderr",
     "output_type": "stream",
     "text": [
      "C:\\Users\\suhan\\AppData\\Local\\Packages\\PythonSoftwareFoundation.Python.3.12_qbz5n2kfra8p0\\LocalCache\\local-packages\\Python312\\site-packages\\sklearn\\metrics\\_classification.py:1531: UndefinedMetricWarning: Precision is ill-defined and being set to 0.0 in labels with no predicted samples. Use `zero_division` parameter to control this behavior.\n",
      "  _warn_prf(average, modifier, f\"{metric.capitalize()} is\", len(result))\n",
      "C:\\Users\\suhan\\AppData\\Local\\Packages\\PythonSoftwareFoundation.Python.3.12_qbz5n2kfra8p0\\LocalCache\\local-packages\\Python312\\site-packages\\sklearn\\metrics\\_classification.py:1531: UndefinedMetricWarning: Precision is ill-defined and being set to 0.0 in labels with no predicted samples. Use `zero_division` parameter to control this behavior.\n",
      "  _warn_prf(average, modifier, f\"{metric.capitalize()} is\", len(result))\n",
      "C:\\Users\\suhan\\AppData\\Local\\Packages\\PythonSoftwareFoundation.Python.3.12_qbz5n2kfra8p0\\LocalCache\\local-packages\\Python312\\site-packages\\sklearn\\metrics\\_classification.py:1531: UndefinedMetricWarning: Precision is ill-defined and being set to 0.0 in labels with no predicted samples. Use `zero_division` parameter to control this behavior.\n",
      "  _warn_prf(average, modifier, f\"{metric.capitalize()} is\", len(result))\n"
     ]
    }
   ],
   "source": [
    "y_pred_msg_log = np.log(all_probs)\n",
    "y_pred_fingers_log = np.log(y_pred_fingers)\n",
    "y_pred_tail_log = np.log(y_pred_tail)\n",
    "\n",
    "class_counts = df['species_group'].value_counts()\n",
    "total_samples = len(df)\n",
    "\n",
    "class_probabilities = np.array(class_counts / total_samples)\n",
    "\n",
    "final_probabilities = y_pred_msg_log + y_pred_fingers_log + y_pred_tail_log - np.log(class_probabilities)\n",
    "\n",
    "y_pred_final_classes = np.argmax(final_probabilities, axis=1)\n",
    "print(classification_report(y_test_labels,y_pred_final_classes))"
   ]
  }
 ],
 "metadata": {
  "kernelspec": {
   "display_name": "Python 3",
   "language": "python",
   "name": "python3"
  },
  "language_info": {
   "codemirror_mode": {
    "name": "ipython",
    "version": 3
   },
   "file_extension": ".py",
   "mimetype": "text/x-python",
   "name": "python",
   "nbconvert_exporter": "python",
   "pygments_lexer": "ipython3",
   "version": "3.12.6"
  }
 },
 "nbformat": 4,
 "nbformat_minor": 2
}
