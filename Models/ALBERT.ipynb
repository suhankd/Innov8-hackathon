{
 "cells": [
  {
   "cell_type": "code",
   "execution_count": 12,
   "metadata": {},
   "outputs": [],
   "source": [
    "# Dependencies\n",
    "\n",
    "import pandas as pd\n",
    "import numpy as np\n",
    "\n",
    "import torch\n",
    "from torch.utils.data import DataLoader, TensorDataset\n",
    "\n",
    "# Importing ALBERT\n",
    "from transformers import AlbertTokenizer, AlbertForSequenceClassification\n",
    "from torch.optim import AdamW\n",
    "\n",
    "# Processing\n",
    "\n",
    "from sklearn.model_selection import train_test_split\n",
    "from keras.utils import to_categorical\n",
    "from sklearn.preprocessing import LabelEncoder"
   ]
  },
  {
   "cell_type": "code",
   "execution_count": 13,
   "metadata": {},
   "outputs": [],
   "source": [
    "df = pd.read_csv(r\"../Data/processedData.csv\")\n",
    "\n",
    "X_train, X_test, y_train, y_test = train_test_split(df[['processedMessage','fingers','tail']],\n",
    "                                                    df['species_group'])\n",
    "\n",
    "label_encoder = LabelEncoder()\n",
    "label_encoder.fit(df['species_group'])\n",
    "\n",
    "y_train = torch.tensor(to_categorical(label_encoder.transform(y_train),num_classes=12))\n",
    "y_test = torch.tensor(to_categorical(label_encoder.transform(y_test),num_classes=12))"
   ]
  },
  {
   "cell_type": "code",
   "execution_count": 16,
   "metadata": {},
   "outputs": [
    {
     "name": "stderr",
     "output_type": "stream",
     "text": [
      "C:\\Users\\suhan\\AppData\\Local\\Packages\\PythonSoftwareFoundation.Python.3.12_qbz5n2kfra8p0\\LocalCache\\local-packages\\Python312\\site-packages\\transformers\\tokenization_utils_base.py:1601: FutureWarning: `clean_up_tokenization_spaces` was not set. It will be set to `True` by default. This behavior will be depracted in transformers v4.45, and will be then set to `False` by default. For more details check this issue: https://github.com/huggingface/transformers/issues/31884\n",
      "  warnings.warn(\n",
      "Some weights of AlbertForSequenceClassification were not initialized from the model checkpoint at albert-base-v2 and are newly initialized: ['classifier.bias', 'classifier.weight']\n",
      "You should probably TRAIN this model on a down-stream task to be able to use it for predictions and inference.\n"
     ]
    }
   ],
   "source": [
    "tokenizer = AlbertTokenizer.from_pretrained('albert-base-v2')\n",
    "model = AlbertForSequenceClassification.from_pretrained('albert-base-v2', num_labels=12)\n",
    "\n",
    "X_train_encodings = tokenizer(list(X_train['processedMessage']), return_tensors='pt', padding=True, truncation=True, max_length=128)\n",
    "X_test_encodings = tokenizer(list(X_test['processedMessage']), return_tensors='pt', padding=True, truncation=True, max_length=128)\n",
    "\n",
    "train_dataset = TensorDataset(X_train_encodings['input_ids'], X_train_encodings['attention_mask'], y_train)\n",
    "train_loader = DataLoader(train_dataset, batch_size=12, shuffle=True)\n",
    "\n",
    "test_dataset = TensorDataset(X_test_encodings['input_ids'], X_test_encodings['attention_mask'], y_test)\n",
    "test_loader = DataLoader(test_dataset, batch_size=12, shuffle=False)\n",
    "\n",
    "optimizer = AdamW(model.parameters())\n",
    "loss_fn = torch.nn.CrossEntropyLoss()"
   ]
  },
  {
   "cell_type": "code",
   "execution_count": null,
   "metadata": {},
   "outputs": [],
   "source": [
    "model.train()\n",
    "\n",
    "num_epochs = 10\n",
    "\n",
    "for epoch in range(num_epochs):\n",
    "    \n",
    "    correct_predictions = 0\n",
    "\n",
    "    for batch in train_loader:\n",
    "\n",
    "        input_ids, attention_mask, labels = batch\n",
    "\n",
    "        outputs = model(input_ids, attention_mask, labels)\n",
    "        loss = outputs.loss\n",
    "        logits = outputs.logits\n",
    "\n",
    "        optimizer.zero_grad()\n",
    "        loss_fn.backward()\n",
    "        optimizer.step()\n",
    "\n",
    "        predictions = torch.argmax(logits, dim=-1)\n"
   ]
  }
 ],
 "metadata": {
  "kernelspec": {
   "display_name": "Python 3",
   "language": "python",
   "name": "python3"
  },
  "language_info": {
   "codemirror_mode": {
    "name": "ipython",
    "version": 3
   },
   "file_extension": ".py",
   "mimetype": "text/x-python",
   "name": "python",
   "nbconvert_exporter": "python",
   "pygments_lexer": "ipython3",
   "version": "3.12.6"
  }
 },
 "nbformat": 4,
 "nbformat_minor": 2
}
